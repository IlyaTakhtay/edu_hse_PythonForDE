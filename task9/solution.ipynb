{
 "cells": [
  {
   "cell_type": "code",
   "execution_count": 32,
   "metadata": {
    "colab": {
     "base_uri": "https://localhost:8080/"
    },
    "id": "F4arvzrHvWv0",
    "outputId": "4f4992c8-bc89-44d3-c8ae-42cec58e8fef"
   },
   "outputs": [
    {
     "name": "stdout",
     "output_type": "stream",
     "text": [
      "Requirement already satisfied: pyspark in /usr/local/lib/python3.10/dist-packages (3.5.3)\n",
      "Requirement already satisfied: py4j==0.10.9.7 in /usr/local/lib/python3.10/dist-packages (from pyspark) (0.10.9.7)\n"
     ]
    }
   ],
   "source": [
    "!pip install pyspark"
   ]
  },
  {
   "cell_type": "code",
   "execution_count": 63,
   "metadata": {
    "id": "6vTsb62Mvamx"
   },
   "outputs": [],
   "source": [
    "from pyspark.sql import SparkSession\n",
    "from pyspark.sql.types import StringType, StructType, IntegerType, DateType, StructField"
   ]
  },
  {
   "cell_type": "code",
   "execution_count": 64,
   "metadata": {
    "id": "O0oO2TPIviRn"
   },
   "outputs": [],
   "source": [
    "csv_path = '.'\n"
   ]
  },
  {
   "cell_type": "code",
   "execution_count": 65,
   "metadata": {
    "id": "fVljq8cwvm-_"
   },
   "outputs": [],
   "source": [
    "spark = SparkSession.builder \\\n",
    "    .appName(\"spark_first\") \\\n",
    "    .getOrCreate()"
   ]
  },
  {
   "cell_type": "code",
   "execution_count": 66,
   "metadata": {
    "id": "9gGOtu1yvq-C"
   },
   "outputs": [],
   "source": [
    "df = spark.read\\\n",
    ".option(\"header\", \"true\") \\\n",
    ".option(\"sep\", \",\") \\\n",
    ".option(\"dateFormat\", \"y\") \\\n",
    ".option(\"inferSchema\", \"true\") \\\n",
    ".csv(f\"{csv_path}/movies.csv\")"
   ]
  },
  {
   "cell_type": "code",
   "execution_count": 67,
   "metadata": {
    "colab": {
     "base_uri": "https://localhost:8080/"
    },
    "id": "pE7Xu1ObvvRM",
    "outputId": "e9f08500-a7fa-4f4e-ff9f-a912e189c0ce"
   },
   "outputs": [
    {
     "name": "stdout",
     "output_type": "stream",
     "text": [
      "+----------------------------------+---------+---------------------+----------------+-------------+-----------------+---------------+----+\n",
      "|Film                              |Genre    |Lead Studio          |Audience score %|Profitability|Rotten Tomatoes %|Worldwide Gross|Year|\n",
      "+----------------------------------+---------+---------------------+----------------+-------------+-----------------+---------------+----+\n",
      "|Zack and Miri Make a Porno        |Romance  |The Weinstein Company|70              |1.747541667  |64               |$41.94         |2008|\n",
      "|Youth in Revolt                   |Comedy   |The Weinstein Company|52              |1.09         |68               |$19.62         |2010|\n",
      "|You Will Meet a Tall Dark Stranger|Comedy   |Independent          |35              |1.211818182  |43               |$26.66         |2010|\n",
      "|When in Rome                      |Comedy   |Disney               |44              |0.0          |15               |$43.04         |2010|\n",
      "|What Happens in Vegas             |Comedy   |Fox                  |72              |6.267647029  |28               |$219.37        |2008|\n",
      "|Water For Elephants               |Drama    |20th Century Fox     |72              |3.081421053  |60               |$117.09        |2011|\n",
      "|WALL-E                            |Animation|Disney               |89              |2.896019067  |96               |$521.28        |2008|\n",
      "|Waitress                          |Romance  |Independent          |67              |11.0897415   |89               |$22.18         |2007|\n",
      "|Waiting For Forever               |Romance  |Independent          |53              |0.005        |6                |$0.03          |2011|\n",
      "|Valentine's Day                   |Comedy   |Warner Bros.         |54              |4.184038462  |17               |$217.57        |2010|\n",
      "+----------------------------------+---------+---------------------+----------------+-------------+-----------------+---------------+----+\n",
      "only showing top 10 rows\n",
      "\n"
     ]
    }
   ],
   "source": [
    "df.show(10,truncate=False )"
   ]
  },
  {
   "cell_type": "code",
   "execution_count": 68,
   "metadata": {
    "id": "GM_z3pBVYvXa"
   },
   "outputs": [],
   "source": [
    "import pyspark.sql.functions as F"
   ]
  },
  {
   "cell_type": "code",
   "execution_count": 69,
   "metadata": {
    "id": "UCRdkJf94DSp"
   },
   "outputs": [],
   "source": [
    "df = df.select('Film')\\\n",
    ".withColumn('word', F.split(F.col('Film'),' '))\\\n",
    ".withColumn('word',F.explode(col='word'))"
   ]
  },
  {
   "cell_type": "code",
   "execution_count": 74,
   "metadata": {
    "id": "R51t5xAm6cmd"
   },
   "outputs": [],
   "source": [
    "result = df.groupBy('word').\\\n",
    "  count().sort('count', ascending=False)"
   ]
  },
  {
   "cell_type": "code",
   "execution_count": 75,
   "metadata": {
    "colab": {
     "base_uri": "https://localhost:8080/"
    },
    "id": "N8ByY7zscOdf",
    "outputId": "d7fc2f77-54a7-4543-839b-feaa07b2b64c"
   },
   "outputs": [
    {
     "name": "stdout",
     "output_type": "stream",
     "text": [
      "+--------+-----+\n",
      "|    word|count|\n",
      "+--------+-----+\n",
      "|     and|    9|\n",
      "|     The|    9|\n",
      "|      of|    6|\n",
      "|     the|    5|\n",
      "|      in|    4|\n",
      "|    Love|    4|\n",
      "|     You|    4|\n",
      "|  Juliet|    3|\n",
      "|       I|    3|\n",
      "|     Day|    3|\n",
      "|       a|    3|\n",
      "|     Sex|    3|\n",
      "|    City|    3|\n",
      "| Married|    2|\n",
      "|      Me|    2|\n",
      "|     For|    2|\n",
      "|Twilight|    2|\n",
      "|     New|    2|\n",
      "|   Mamma|    2|\n",
      "|  Gnomeo|    2|\n",
      "+--------+-----+\n",
      "only showing top 20 rows\n",
      "\n"
     ]
    }
   ],
   "source": [
    "result.show()"
   ]
  },
  {
   "cell_type": "code",
   "execution_count": null,
   "metadata": {
    "id": "_IKPRZe1desX"
   },
   "outputs": [],
   "source": []
  }
 ],
 "metadata": {
  "colab": {
   "provenance": []
  },
  "kernelspec": {
   "display_name": "Python 3",
   "name": "python3"
  },
  "language_info": {
   "name": "python",
   "version": "3.10.4"
  }
 },
 "nbformat": 4,
 "nbformat_minor": 0
}
