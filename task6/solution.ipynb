{
 "cells": [
  {
   "cell_type": "markdown",
   "metadata": {},
   "source": [
    "### На основании датасета для каждого покупателя получите:\n",
    "1 предпочитаемый метод оплаты;\n",
    "2 общие траты;\n",
    "3 количество денег, потраченных на дополнительные услуги и аксессуары.\n"
   ]
  },
  {
   "cell_type": "code",
   "execution_count": 126,
   "metadata": {},
   "outputs": [
    {
     "data": {
      "text/plain": [
       "array(['Credit Card', 'Paypal', 'Cash', 'Debit Card', 'Bank Transfer',\n",
       "       'PayPal'], dtype=object)"
      ]
     },
     "execution_count": 126,
     "metadata": {},
     "output_type": "execute_result"
    }
   ],
   "source": [
    "import pandas as pd\n",
    "sales = pd.read_csv('Electronic_sales_Sep2023-Sep2024.csv')\n",
    "sales['Payment Method'].unique()"
   ]
  },
  {
   "cell_type": "markdown",
   "metadata": {},
   "source": [
    "### 1 предпочитаемый метод оплаты;"
   ]
  },
  {
   "cell_type": "code",
   "execution_count": 127,
   "metadata": {},
   "outputs": [
    {
     "data": {
      "text/plain": [
       "Payment Method\n",
       "credit card      5868\n",
       "paypal           5798\n",
       "bank transfer    3371\n",
       "cash             2492\n",
       "debit card       2471\n",
       "Name: count, dtype: int64"
      ]
     },
     "execution_count": 127,
     "metadata": {},
     "output_type": "execute_result"
    }
   ],
   "source": [
    "sales['Payment Method'] = sales['Payment Method'].str.lower()  # Преобразуем к нижнему регистру\n",
    "sales['Payment Method'].value_counts()"
   ]
  },
  {
   "cell_type": "markdown",
   "metadata": {},
   "source": [
    "### 2 общие траты;"
   ]
  },
  {
   "cell_type": "code",
   "execution_count": 128,
   "metadata": {},
   "outputs": [
    {
     "data": {
      "text/html": [
       "<div>\n",
       "<style scoped>\n",
       "    .dataframe tbody tr th:only-of-type {\n",
       "        vertical-align: middle;\n",
       "    }\n",
       "\n",
       "    .dataframe tbody tr th {\n",
       "        vertical-align: top;\n",
       "    }\n",
       "\n",
       "    .dataframe thead th {\n",
       "        text-align: right;\n",
       "    }\n",
       "</style>\n",
       "<table border=\"1\" class=\"dataframe\">\n",
       "  <thead>\n",
       "    <tr style=\"text-align: right;\">\n",
       "      <th></th>\n",
       "      <th>Customer ID</th>\n",
       "      <th>Age</th>\n",
       "      <th>Gender</th>\n",
       "      <th>Loyalty Member</th>\n",
       "      <th>Product Type</th>\n",
       "      <th>SKU</th>\n",
       "      <th>Rating</th>\n",
       "      <th>Order Status</th>\n",
       "      <th>Payment Method</th>\n",
       "      <th>Total Price</th>\n",
       "      <th>Unit Price</th>\n",
       "      <th>Quantity</th>\n",
       "      <th>Purchase Date</th>\n",
       "      <th>Shipping Type</th>\n",
       "      <th>Add-ons Purchased</th>\n",
       "      <th>Add-on Total</th>\n",
       "    </tr>\n",
       "  </thead>\n",
       "  <tbody>\n",
       "    <tr>\n",
       "      <th>19995</th>\n",
       "      <td>19996</td>\n",
       "      <td>27</td>\n",
       "      <td>Female</td>\n",
       "      <td>No</td>\n",
       "      <td>Smartphone</td>\n",
       "      <td>SMP234</td>\n",
       "      <td>4</td>\n",
       "      <td>Completed</td>\n",
       "      <td>bank transfer</td>\n",
       "      <td>6838.08</td>\n",
       "      <td>1139.68</td>\n",
       "      <td>6</td>\n",
       "      <td>2024-06-15</td>\n",
       "      <td>Expedited</td>\n",
       "      <td>NaN</td>\n",
       "      <td>0.00</td>\n",
       "    </tr>\n",
       "    <tr>\n",
       "      <th>19996</th>\n",
       "      <td>19996</td>\n",
       "      <td>27</td>\n",
       "      <td>Female</td>\n",
       "      <td>Yes</td>\n",
       "      <td>Laptop</td>\n",
       "      <td>LTP123</td>\n",
       "      <td>4</td>\n",
       "      <td>Cancelled</td>\n",
       "      <td>credit card</td>\n",
       "      <td>2697.28</td>\n",
       "      <td>674.32</td>\n",
       "      <td>4</td>\n",
       "      <td>2024-07-18</td>\n",
       "      <td>Standard</td>\n",
       "      <td>NaN</td>\n",
       "      <td>0.00</td>\n",
       "    </tr>\n",
       "    <tr>\n",
       "      <th>19997</th>\n",
       "      <td>19996</td>\n",
       "      <td>27</td>\n",
       "      <td>Female</td>\n",
       "      <td>No</td>\n",
       "      <td>Headphones</td>\n",
       "      <td>HDP456</td>\n",
       "      <td>4</td>\n",
       "      <td>Completed</td>\n",
       "      <td>bank transfer</td>\n",
       "      <td>1805.90</td>\n",
       "      <td>361.18</td>\n",
       "      <td>5</td>\n",
       "      <td>2024-08-26</td>\n",
       "      <td>Standard</td>\n",
       "      <td>Impulse Item, Extended Warranty, Accessory</td>\n",
       "      <td>198.98</td>\n",
       "    </tr>\n",
       "    <tr>\n",
       "      <th>19998</th>\n",
       "      <td>19997</td>\n",
       "      <td>27</td>\n",
       "      <td>Male</td>\n",
       "      <td>No</td>\n",
       "      <td>Headphones</td>\n",
       "      <td>HDP456</td>\n",
       "      <td>1</td>\n",
       "      <td>Cancelled</td>\n",
       "      <td>bank transfer</td>\n",
       "      <td>2528.26</td>\n",
       "      <td>361.18</td>\n",
       "      <td>7</td>\n",
       "      <td>2024-01-06</td>\n",
       "      <td>Expedited</td>\n",
       "      <td>Extended Warranty, Accessory</td>\n",
       "      <td>101.34</td>\n",
       "    </tr>\n",
       "    <tr>\n",
       "      <th>19999</th>\n",
       "      <td>19998</td>\n",
       "      <td>27</td>\n",
       "      <td>NaN</td>\n",
       "      <td>Yes</td>\n",
       "      <td>Laptop</td>\n",
       "      <td>LTP123</td>\n",
       "      <td>4</td>\n",
       "      <td>Completed</td>\n",
       "      <td>bank transfer</td>\n",
       "      <td>674.32</td>\n",
       "      <td>674.32</td>\n",
       "      <td>1</td>\n",
       "      <td>2024-01-29</td>\n",
       "      <td>Expedited</td>\n",
       "      <td>NaN</td>\n",
       "      <td>0.00</td>\n",
       "    </tr>\n",
       "  </tbody>\n",
       "</table>\n",
       "</div>"
      ],
      "text/plain": [
       "       Customer ID  Age  Gender Loyalty Member Product Type     SKU  Rating  \\\n",
       "19995        19996   27  Female             No   Smartphone  SMP234       4   \n",
       "19996        19996   27  Female            Yes       Laptop  LTP123       4   \n",
       "19997        19996   27  Female             No   Headphones  HDP456       4   \n",
       "19998        19997   27    Male             No   Headphones  HDP456       1   \n",
       "19999        19998   27     NaN            Yes       Laptop  LTP123       4   \n",
       "\n",
       "      Order Status Payment Method  Total Price  Unit Price  Quantity  \\\n",
       "19995    Completed  bank transfer      6838.08     1139.68         6   \n",
       "19996    Cancelled    credit card      2697.28      674.32         4   \n",
       "19997    Completed  bank transfer      1805.90      361.18         5   \n",
       "19998    Cancelled  bank transfer      2528.26      361.18         7   \n",
       "19999    Completed  bank transfer       674.32      674.32         1   \n",
       "\n",
       "      Purchase Date Shipping Type                           Add-ons Purchased  \\\n",
       "19995    2024-06-15     Expedited                                         NaN   \n",
       "19996    2024-07-18      Standard                                         NaN   \n",
       "19997    2024-08-26      Standard  Impulse Item, Extended Warranty, Accessory   \n",
       "19998    2024-01-06     Expedited                Extended Warranty, Accessory   \n",
       "19999    2024-01-29     Expedited                                         NaN   \n",
       "\n",
       "       Add-on Total  \n",
       "19995          0.00  \n",
       "19996          0.00  \n",
       "19997        198.98  \n",
       "19998        101.34  \n",
       "19999          0.00  "
      ]
     },
     "execution_count": 128,
     "metadata": {},
     "output_type": "execute_result"
    }
   ],
   "source": [
    "sales.tail(5)"
   ]
  },
  {
   "cell_type": "code",
   "execution_count": 129,
   "metadata": {},
   "outputs": [
    {
     "data": {
      "text/html": [
       "<div>\n",
       "<style scoped>\n",
       "    .dataframe tbody tr th:only-of-type {\n",
       "        vertical-align: middle;\n",
       "    }\n",
       "\n",
       "    .dataframe tbody tr th {\n",
       "        vertical-align: top;\n",
       "    }\n",
       "\n",
       "    .dataframe thead th {\n",
       "        text-align: right;\n",
       "    }\n",
       "</style>\n",
       "<table border=\"1\" class=\"dataframe\">\n",
       "  <thead>\n",
       "    <tr style=\"text-align: right;\">\n",
       "      <th></th>\n",
       "      <th>Customer ID</th>\n",
       "      <th>Total Price</th>\n",
       "    </tr>\n",
       "  </thead>\n",
       "  <tbody>\n",
       "    <tr>\n",
       "      <th>5724</th>\n",
       "      <td>9433</td>\n",
       "      <td>9099.10</td>\n",
       "    </tr>\n",
       "    <tr>\n",
       "      <th>4075</th>\n",
       "      <td>7016</td>\n",
       "      <td>1073.17</td>\n",
       "    </tr>\n",
       "    <tr>\n",
       "      <th>10004</th>\n",
       "      <td>16794</td>\n",
       "      <td>5424.42</td>\n",
       "    </tr>\n",
       "    <tr>\n",
       "      <th>7271</th>\n",
       "      <td>12637</td>\n",
       "      <td>11396.80</td>\n",
       "    </tr>\n",
       "    <tr>\n",
       "      <th>4943</th>\n",
       "      <td>8278</td>\n",
       "      <td>3379.32</td>\n",
       "    </tr>\n",
       "    <tr>\n",
       "      <th>6081</th>\n",
       "      <td>9933</td>\n",
       "      <td>124.50</td>\n",
       "    </tr>\n",
       "    <tr>\n",
       "      <th>10108</th>\n",
       "      <td>16942</td>\n",
       "      <td>2022.96</td>\n",
       "    </tr>\n",
       "    <tr>\n",
       "      <th>688</th>\n",
       "      <td>2018</td>\n",
       "      <td>2373.57</td>\n",
       "    </tr>\n",
       "    <tr>\n",
       "      <th>1761</th>\n",
       "      <td>3635</td>\n",
       "      <td>4226.41</td>\n",
       "    </tr>\n",
       "    <tr>\n",
       "      <th>449</th>\n",
       "      <td>1672</td>\n",
       "      <td>6059.15</td>\n",
       "    </tr>\n",
       "  </tbody>\n",
       "</table>\n",
       "</div>"
      ],
      "text/plain": [
       "       Customer ID  Total Price\n",
       "5724          9433      9099.10\n",
       "4075          7016      1073.17\n",
       "10004        16794      5424.42\n",
       "7271         12637     11396.80\n",
       "4943          8278      3379.32\n",
       "6081          9933       124.50\n",
       "10108        16942      2022.96\n",
       "688           2018      2373.57\n",
       "1761          3635      4226.41\n",
       "449           1672      6059.15"
      ]
     },
     "execution_count": 129,
     "metadata": {},
     "output_type": "execute_result"
    }
   ],
   "source": [
    "sales.groupby('Customer ID')['Total Price'].sum().reset_index().sample(10)"
   ]
  },
  {
   "cell_type": "markdown",
   "metadata": {},
   "source": [
    "### 3 количество денег, потраченных на дополнительные услуги и аксессуары."
   ]
  },
  {
   "cell_type": "code",
   "execution_count": 130,
   "metadata": {},
   "outputs": [
    {
     "name": "stdout",
     "output_type": "stream",
     "text": [
      "<class 'pandas.core.frame.DataFrame'>\n",
      "RangeIndex: 20000 entries, 0 to 19999\n",
      "Data columns (total 16 columns):\n",
      " #   Column             Non-Null Count  Dtype  \n",
      "---  ------             --------------  -----  \n",
      " 0   Customer ID        20000 non-null  int64  \n",
      " 1   Age                20000 non-null  int64  \n",
      " 2   Gender             19999 non-null  object \n",
      " 3   Loyalty Member     20000 non-null  object \n",
      " 4   Product Type       20000 non-null  object \n",
      " 5   SKU                20000 non-null  object \n",
      " 6   Rating             20000 non-null  int64  \n",
      " 7   Order Status       20000 non-null  object \n",
      " 8   Payment Method     20000 non-null  object \n",
      " 9   Total Price        20000 non-null  float64\n",
      " 10  Unit Price         20000 non-null  float64\n",
      " 11  Quantity           20000 non-null  int64  \n",
      " 12  Purchase Date      20000 non-null  object \n",
      " 13  Shipping Type      20000 non-null  object \n",
      " 14  Add-ons Purchased  15132 non-null  object \n",
      " 15  Add-on Total       20000 non-null  float64\n",
      "dtypes: float64(3), int64(4), object(9)\n",
      "memory usage: 2.4+ MB\n"
     ]
    }
   ],
   "source": [
    "sales.info()"
   ]
  },
  {
   "cell_type": "code",
   "execution_count": 131,
   "metadata": {},
   "outputs": [
    {
     "data": {
      "text/plain": [
       "np.float64(1244896.96)"
      ]
     },
     "execution_count": 131,
     "metadata": {},
     "output_type": "execute_result"
    }
   ],
   "source": [
    "sales['Add-on Total'].sum()"
   ]
  },
  {
   "cell_type": "markdown",
   "metadata": {},
   "source": [
    "### Часть 2\n",
    "На основании датасета получите доход:\n",
    "    по каждому методу доставки,\n",
    "    по каждому типу продукта,\n",
    "    по дополнительным услугам за каждый месяц,\n",
    "    по дополнительным услугам за каждый квартал.\n",
    "2. Отобразите полученные данные на графике.\n"
   ]
  },
  {
   "cell_type": "code",
   "execution_count": 132,
   "metadata": {},
   "outputs": [],
   "source": [
    "income = { }"
   ]
  },
  {
   "cell_type": "code",
   "execution_count": 133,
   "metadata": {},
   "outputs": [
    {
     "data": {
      "text/html": [
       "<div>\n",
       "<style scoped>\n",
       "    .dataframe tbody tr th:only-of-type {\n",
       "        vertical-align: middle;\n",
       "    }\n",
       "\n",
       "    .dataframe tbody tr th {\n",
       "        vertical-align: top;\n",
       "    }\n",
       "\n",
       "    .dataframe thead th {\n",
       "        text-align: right;\n",
       "    }\n",
       "</style>\n",
       "<table border=\"1\" class=\"dataframe\">\n",
       "  <thead>\n",
       "    <tr style=\"text-align: right;\">\n",
       "      <th></th>\n",
       "      <th>Shipping Type</th>\n",
       "      <th>Total Price</th>\n",
       "    </tr>\n",
       "  </thead>\n",
       "  <tbody>\n",
       "    <tr>\n",
       "      <th>0</th>\n",
       "      <td>Expedited</td>\n",
       "      <td>12437526.21</td>\n",
       "    </tr>\n",
       "    <tr>\n",
       "      <th>1</th>\n",
       "      <td>Express</td>\n",
       "      <td>8685215.62</td>\n",
       "    </tr>\n",
       "    <tr>\n",
       "      <th>2</th>\n",
       "      <td>Overnight</td>\n",
       "      <td>8704828.17</td>\n",
       "    </tr>\n",
       "    <tr>\n",
       "      <th>3</th>\n",
       "      <td>Same Day</td>\n",
       "      <td>12432024.82</td>\n",
       "    </tr>\n",
       "    <tr>\n",
       "      <th>4</th>\n",
       "      <td>Standard</td>\n",
       "      <td>21343073.55</td>\n",
       "    </tr>\n",
       "  </tbody>\n",
       "</table>\n",
       "</div>"
      ],
      "text/plain": [
       "  Shipping Type  Total Price\n",
       "0     Expedited  12437526.21\n",
       "1       Express   8685215.62\n",
       "2     Overnight   8704828.17\n",
       "3      Same Day  12432024.82\n",
       "4      Standard  21343073.55"
      ]
     },
     "execution_count": 133,
     "metadata": {},
     "output_type": "execute_result"
    }
   ],
   "source": [
    "income['By_shipping'] = sales.groupby('Shipping Type')['Total Price'].sum().reset_index()\n",
    "income['By_shipping']\n"
   ]
  },
  {
   "cell_type": "code",
   "execution_count": 134,
   "metadata": {},
   "outputs": [
    {
     "data": {
      "text/html": [
       "<div>\n",
       "<style scoped>\n",
       "    .dataframe tbody tr th:only-of-type {\n",
       "        vertical-align: middle;\n",
       "    }\n",
       "\n",
       "    .dataframe tbody tr th {\n",
       "        vertical-align: top;\n",
       "    }\n",
       "\n",
       "    .dataframe thead th {\n",
       "        text-align: right;\n",
       "    }\n",
       "</style>\n",
       "<table border=\"1\" class=\"dataframe\">\n",
       "  <thead>\n",
       "    <tr style=\"text-align: right;\">\n",
       "      <th></th>\n",
       "      <th>Product Type</th>\n",
       "      <th>Total Price</th>\n",
       "    </tr>\n",
       "  </thead>\n",
       "  <tbody>\n",
       "    <tr>\n",
       "      <th>0</th>\n",
       "      <td>Headphones</td>\n",
       "      <td>4041400.24</td>\n",
       "    </tr>\n",
       "    <tr>\n",
       "      <th>1</th>\n",
       "      <td>Laptop</td>\n",
       "      <td>12296239.97</td>\n",
       "    </tr>\n",
       "    <tr>\n",
       "      <th>2</th>\n",
       "      <td>Smartphone</td>\n",
       "      <td>21516754.69</td>\n",
       "    </tr>\n",
       "    <tr>\n",
       "      <th>3</th>\n",
       "      <td>Smartwatch</td>\n",
       "      <td>14036273.06</td>\n",
       "    </tr>\n",
       "    <tr>\n",
       "      <th>4</th>\n",
       "      <td>Tablet</td>\n",
       "      <td>11712000.41</td>\n",
       "    </tr>\n",
       "  </tbody>\n",
       "</table>\n",
       "</div>"
      ],
      "text/plain": [
       "  Product Type  Total Price\n",
       "0   Headphones   4041400.24\n",
       "1       Laptop  12296239.97\n",
       "2   Smartphone  21516754.69\n",
       "3   Smartwatch  14036273.06\n",
       "4       Tablet  11712000.41"
      ]
     },
     "execution_count": 134,
     "metadata": {},
     "output_type": "execute_result"
    }
   ],
   "source": [
    "income['By_product'] = sales.groupby('Product Type')['Total Price'].sum().reset_index()\n",
    "income['By_product']"
   ]
  },
  {
   "cell_type": "code",
   "execution_count": 135,
   "metadata": {},
   "outputs": [
    {
     "data": {
      "text/html": [
       "<div>\n",
       "<style scoped>\n",
       "    .dataframe tbody tr th:only-of-type {\n",
       "        vertical-align: middle;\n",
       "    }\n",
       "\n",
       "    .dataframe tbody tr th {\n",
       "        vertical-align: top;\n",
       "    }\n",
       "\n",
       "    .dataframe thead th {\n",
       "        text-align: right;\n",
       "    }\n",
       "</style>\n",
       "<table border=\"1\" class=\"dataframe\">\n",
       "  <thead>\n",
       "    <tr style=\"text-align: right;\">\n",
       "      <th></th>\n",
       "      <th>Month</th>\n",
       "      <th>Add-on Total</th>\n",
       "    </tr>\n",
       "  </thead>\n",
       "  <tbody>\n",
       "    <tr>\n",
       "      <th>0</th>\n",
       "      <td>1</td>\n",
       "      <td>136195.16</td>\n",
       "    </tr>\n",
       "    <tr>\n",
       "      <th>1</th>\n",
       "      <td>2</td>\n",
       "      <td>120148.92</td>\n",
       "    </tr>\n",
       "    <tr>\n",
       "      <th>2</th>\n",
       "      <td>3</td>\n",
       "      <td>124954.26</td>\n",
       "    </tr>\n",
       "    <tr>\n",
       "      <th>3</th>\n",
       "      <td>4</td>\n",
       "      <td>123973.59</td>\n",
       "    </tr>\n",
       "    <tr>\n",
       "      <th>4</th>\n",
       "      <td>5</td>\n",
       "      <td>132018.51</td>\n",
       "    </tr>\n",
       "    <tr>\n",
       "      <th>5</th>\n",
       "      <td>6</td>\n",
       "      <td>126689.59</td>\n",
       "    </tr>\n",
       "    <tr>\n",
       "      <th>6</th>\n",
       "      <td>7</td>\n",
       "      <td>132017.20</td>\n",
       "    </tr>\n",
       "    <tr>\n",
       "      <th>7</th>\n",
       "      <td>8</td>\n",
       "      <td>135133.14</td>\n",
       "    </tr>\n",
       "    <tr>\n",
       "      <th>8</th>\n",
       "      <td>9</td>\n",
       "      <td>107531.51</td>\n",
       "    </tr>\n",
       "    <tr>\n",
       "      <th>9</th>\n",
       "      <td>10</td>\n",
       "      <td>37837.12</td>\n",
       "    </tr>\n",
       "    <tr>\n",
       "      <th>10</th>\n",
       "      <td>11</td>\n",
       "      <td>34888.81</td>\n",
       "    </tr>\n",
       "    <tr>\n",
       "      <th>11</th>\n",
       "      <td>12</td>\n",
       "      <td>33509.15</td>\n",
       "    </tr>\n",
       "  </tbody>\n",
       "</table>\n",
       "</div>"
      ],
      "text/plain": [
       "    Month  Add-on Total\n",
       "0       1     136195.16\n",
       "1       2     120148.92\n",
       "2       3     124954.26\n",
       "3       4     123973.59\n",
       "4       5     132018.51\n",
       "5       6     126689.59\n",
       "6       7     132017.20\n",
       "7       8     135133.14\n",
       "8       9     107531.51\n",
       "9      10      37837.12\n",
       "10     11      34888.81\n",
       "11     12      33509.15"
      ]
     },
     "execution_count": 135,
     "metadata": {},
     "output_type": "execute_result"
    }
   ],
   "source": [
    "sales['Month'] = pd.to_datetime(sales['Purchase Date']).dt.month\n",
    "sales['Quarter'] = pd.to_datetime(sales['Purchase Date']).dt.quarter\n",
    "income['By_month'] = sales.groupby('Month')['Add-on Total'].sum().reset_index()\n",
    "income['By_month']\n"
   ]
  },
  {
   "cell_type": "code",
   "execution_count": 136,
   "metadata": {},
   "outputs": [
    {
     "data": {
      "text/html": [
       "<div>\n",
       "<style scoped>\n",
       "    .dataframe tbody tr th:only-of-type {\n",
       "        vertical-align: middle;\n",
       "    }\n",
       "\n",
       "    .dataframe tbody tr th {\n",
       "        vertical-align: top;\n",
       "    }\n",
       "\n",
       "    .dataframe thead th {\n",
       "        text-align: right;\n",
       "    }\n",
       "</style>\n",
       "<table border=\"1\" class=\"dataframe\">\n",
       "  <thead>\n",
       "    <tr style=\"text-align: right;\">\n",
       "      <th></th>\n",
       "      <th>Quarter</th>\n",
       "      <th>Add-on Total</th>\n",
       "    </tr>\n",
       "  </thead>\n",
       "  <tbody>\n",
       "    <tr>\n",
       "      <th>0</th>\n",
       "      <td>1</td>\n",
       "      <td>381298.34</td>\n",
       "    </tr>\n",
       "    <tr>\n",
       "      <th>1</th>\n",
       "      <td>2</td>\n",
       "      <td>382681.69</td>\n",
       "    </tr>\n",
       "    <tr>\n",
       "      <th>2</th>\n",
       "      <td>3</td>\n",
       "      <td>374681.85</td>\n",
       "    </tr>\n",
       "    <tr>\n",
       "      <th>3</th>\n",
       "      <td>4</td>\n",
       "      <td>106235.08</td>\n",
       "    </tr>\n",
       "  </tbody>\n",
       "</table>\n",
       "</div>"
      ],
      "text/plain": [
       "   Quarter  Add-on Total\n",
       "0        1     381298.34\n",
       "1        2     382681.69\n",
       "2        3     374681.85\n",
       "3        4     106235.08"
      ]
     },
     "execution_count": 136,
     "metadata": {},
     "output_type": "execute_result"
    }
   ],
   "source": [
    "income['By_quarter'] = sales.groupby('Quarter')['Add-on Total'].sum().reset_index()\n",
    "income['By_quarter']"
   ]
  },
  {
   "cell_type": "code",
   "execution_count": 137,
   "metadata": {},
   "outputs": [
    {
     "data": {
      "image/png": "[encoded data removed]",
      "text/plain": [
       "<Figure size 1000x600 with 1 Axes>"
      ]
     },
     "metadata": {},
     "output_type": "display_data"
    },
    {
     "data": {
      "image/png": "[encoded data removed]",
      "text/plain": [
       "<Figure size 1000x600 with 1 Axes>"
      ]
     },
     "metadata": {},
     "output_type": "display_data"
    }
   ],
   "source": [
    "import matplotlib.pyplot as plt\n",
    "plt.figure(figsize=(10, 6))\n",
    "plt.bar(income['By_quarter']['Quarter'], income['By_quarter']['Add-on Total'], label='Дополнительные услуги')\n",
    "plt.xlabel('Квартал')\n",
    "plt.ylabel('Общая стоимость')\n",
    "plt.title('Общая стоимость дополнительных услуг по  кварталам')\n",
    "plt.figure(figsize=(10, 6))\n",
    "plt.bar(income['By_month']['Month'], income['By_month']['Add-on Total'], label='Дополнительные услуги')\n",
    "plt.xlabel('Месяц')\n",
    "plt.ylabel('Общая стоимость')\n",
    "plt.title('Общая стоимость дополнительных услуг по месяцам')\n",
    "\n",
    "plt.legend()\n",
    "plt.show()"
   ]
  },
  {
   "cell_type": "code",
   "execution_count": 138,
   "metadata": {},
   "outputs": [
    {
     "data": {
      "image/png": "[encoded data removed]",
      "text/plain": [
       "<Figure size 1000x600 with 1 Axes>"
      ]
     },
     "metadata": {},
     "output_type": "display_data"
    },
    {
     "data": {
      "image/png": "[encoded data removed]",
      "text/plain": [
       "<Figure size 1000x600 with 1 Axes>"
      ]
     },
     "metadata": {},
     "output_type": "display_data"
    }
   ],
   "source": [
    "import matplotlib.pyplot as plt\n",
    "plt.figure(figsize=(10, 6))\n",
    "plt.bar(income['By_shipping']['Shipping Type'], income['By_shipping']['Total Price'], label='Дополнительные услуги')\n",
    "plt.xlabel('тип')\n",
    "plt.ylabel('Общая стоимость')\n",
    "plt.title('Общая стоимость по виду доставки')\n",
    "plt.figure(figsize=(10, 6))\n",
    "plt.bar(income['By_product']['Product Type'], income['By_product']['Total Price'], label='Дополнительные услуги')\n",
    "plt.xlabel('тип')\n",
    "plt.ylabel('Общая стоимость')\n",
    "plt.title('Общая стоимость по типу продукта')\n",
    "\n",
    "plt.legend()\n",
    "plt.show()"
   ]
  },
  {
   "cell_type": "code",
   "execution_count": null,
   "metadata": {},
   "outputs": [],
   "source": []
  }
 ],
 "metadata": {
  "kernelspec": {
   "display_name": "Python 3",
   "language": "python",
   "name": "python3"
  },
  "language_info": {
   "codemirror_mode": {
    "name": "ipython",
    "version": 3
   },
   "file_extension": ".py",
   "mimetype": "text/x-python",
   "name": "python",
   "nbconvert_exporter": "python",
   "pygments_lexer": "ipython3",
   "version": "3.10.4"
  }
 },
 "nbformat": 4,
 "nbformat_minor": 2
}
